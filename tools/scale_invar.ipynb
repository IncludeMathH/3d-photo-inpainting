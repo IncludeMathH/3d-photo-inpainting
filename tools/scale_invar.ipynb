{
 "cells": [
  {
   "cell_type": "code",
   "execution_count": 1,
   "metadata": {},
   "outputs": [],
   "source": [
    "import numpy as np"
   ]
  },
  {
   "cell_type": "code",
   "execution_count": 2,
   "metadata": {},
   "outputs": [
    {
     "name": "stdout",
     "output_type": "stream",
     "text": [
      "[[ 1.  0.  0.  2.]\n",
      " [ 0.  1.  0.  0.]\n",
      " [ 0.  0.  1. -2.]\n",
      " [ 0.  0.  0.  1.]]\n"
     ]
    }
   ],
   "source": [
    "Ts = np.array([[1, 0, 0, 5],\n",
    "               [0, 1, 0, 4],\n",
    "               [0, 0, 1, 3],\n",
    "               [0, 0, 0, 1]])\n",
    "\n",
    "Tp = np.array([[1, 0, 0, 3],\n",
    "               [0, 1, 0, 4],\n",
    "               [0, 0, 1, 5],\n",
    "               [0, 0, 0, 1]])\n",
    "\n",
    "pose = np.linalg.inv(np.dot(Tp, np.linalg.inv(Ts)))\n",
    "print(pose)"
   ]
  },
  {
   "cell_type": "code",
   "execution_count": 3,
   "metadata": {},
   "outputs": [
    {
     "name": "stdout",
     "output_type": "stream",
     "text": [
      "[[ 1.   0.   0.   0.2]\n",
      " [ 0.   1.   0.   0. ]\n",
      " [ 0.   0.   1.  -0.2]\n",
      " [ 0.   0.   0.   1. ]]\n"
     ]
    }
   ],
   "source": [
    "Ts = np.array([[1, 0, 0, 0.5],\n",
    "               [0, 1, 0, 0.4],\n",
    "               [0, 0, 1, 0.3],\n",
    "               [0, 0, 0, 1]])\n",
    "\n",
    "Tp = np.array([[1, 0, 0, 0.3],\n",
    "               [0, 1, 0, 0.4],\n",
    "               [0, 0, 1, 0.5],\n",
    "               [0, 0, 0, 1]])\n",
    "\n",
    "pose = np.linalg.inv(np.dot(Tp, np.linalg.inv(Ts)))\n",
    "print(pose)"
   ]
  },
  {
   "cell_type": "markdown",
   "metadata": {},
   "source": [
    "T矩阵不具有尺度不变性"
   ]
  },
  {
   "cell_type": "code",
   "execution_count": null,
   "metadata": {},
   "outputs": [],
   "source": []
  }
 ],
 "metadata": {
  "kernelspec": {
   "display_name": "3DP",
   "language": "python",
   "name": "python3"
  },
  "language_info": {
   "codemirror_mode": {
    "name": "ipython",
    "version": 3
   },
   "file_extension": ".py",
   "mimetype": "text/x-python",
   "name": "python",
   "nbconvert_exporter": "python",
   "pygments_lexer": "ipython3",
   "version": "3.7.13"
  }
 },
 "nbformat": 4,
 "nbformat_minor": 2
}
